{
  "cells": [
    {
      "cell_type": "markdown",
      "metadata": {
        "id": "aI-zWHmskQru"
      },
      "source": [
        "## Setting Up"
      ]
    },
    {
      "cell_type": "markdown",
      "metadata": {
        "id": "iRxzoZEYkQrv"
      },
      "source": [
        "### Installing Dependencies"
      ]
    },
    {
      "cell_type": "code",
      "execution_count": 9,
      "metadata": {
        "id": "N5hLfrJGkQrw"
      },
      "outputs": [],
      "source": [
        "%pip install openai pydantic instructor pandas python-dotenv\n",
        "from IPython.display import clear_output ; clear_output()"
      ]
    },
    {
      "cell_type": "markdown",
      "metadata": {
        "id": "MVV6MCRIkQrw"
      },
      "source": [
        "### Loading Azure Open AI configuration"
      ]
    },
    {
      "cell_type": "code",
      "execution_count": 3,
      "metadata": {
        "id": "d2dCRzUxkQrx"
      },
      "outputs": [],
      "source": [
        "from dotenv import load_dotenv\n",
        "import os\n",
        "\n",
        "load_dotenv()\n",
        "\n",
        "AZURE_OPENAI_ENDPOINT = os.getenv(\"AZURE_OPENAI_ENDPOINT\")\n",
        "AZURE_OPENAI_API_KEY = os.getenv(\"AZURE_OPENAI_API_KEY\")\n",
        "GPT_4_O_MODEL_NAME = os.getenv(\"GPT_4_O_MODEL_NAME\", default=\"gpt-4o\")\n",
        "\n",
        "from openai import AzureOpenAI\n",
        "\n",
        "aoai = AzureOpenAI(\n",
        "    api_version=\"2024-05-01-preview\",\n",
        "    azure_endpoint=AZURE_OPENAI_ENDPOINT,\n",
        "    api_key=AZURE_OPENAI_API_KEY,\n",
        ")"
      ]
    },
    {
      "cell_type": "markdown",
      "metadata": {
        "id": "t2FAs_fKkQrx"
      },
      "source": [
        "## Using Structured Input/Output with OpenAI"
      ]
    },
    {
      "cell_type": "code",
      "execution_count": 11,
      "metadata": {},
      "outputs": [],
      "source": [
        "import instructor\n",
        "from pydantic import BaseModel, Field\n",
        "from typing import List\n",
        "from enum import Enum\n",
        "import json\n",
        "from pandas import DataFrame\n",
        "\n",
        "client = instructor.from_openai(aoai)\n",
        "\n",
        "def print_json(data):\n",
        "    print(json.dumps(data, indent=2))\n",
        "\n",
        "def print_schema(model: BaseModel):\n",
        "    print_json(model.model_json_schema(), indent=2)\n",
        "\n",
        "def print_result(result: BaseModel):\n",
        "    print(result.model_dump_json(indent=2))\n",
        "\n",
        "def json_dataframe(data):\n",
        "    return DataFrame([item.dict() for item in data])\n",
        "\n",
        "def llm(response_model: BaseModel = BaseModel, system: str = None, user: str = None):\n",
        "    messages = []\n",
        "    if system:\n",
        "        messages.append({\"role\": \"system\", \"content\": system})\n",
        "    if user:\n",
        "        messages.append({\"role\": \"user\", \"content\": user})\n",
        "    result = client.chat.completions.create(\n",
        "        model=GPT_4_O_MODEL_NAME,\n",
        "        response_model=response_model,\n",
        "        messages=messages,\n",
        "    )\n",
        "    return result"
      ]
    },
    {
      "cell_type": "markdown",
      "metadata": {
        "id": "UQBHip4rkQry"
      },
      "source": [
        "## Working with Text"
      ]
    },
    {
      "cell_type": "markdown",
      "metadata": {},
      "source": [
        "### Translation and Normalization"
      ]
    },
    {
      "cell_type": "code",
      "execution_count": 4,
      "metadata": {},
      "outputs": [
        {
          "name": "stdout",
          "output_type": "stream",
          "text": [
            "{\n",
            "  \"input_language\": \"de\",\n",
            "  \"translation\": \"Language skills are an important part of communication.\"\n",
            "}\n"
          ]
        }
      ],
      "source": [
        "class TranslatedString(BaseModel):\n",
        "    input_language: str = Field(..., description=\"The language of the original text, as 2-letter language code.\")\n",
        "    translation: str\n",
        "\n",
        "translation = llm(\n",
        "    TranslatedString,\n",
        "    \"Detect the language of the original text and translate it into English.\",\n",
        "    \"Sprachkenntnisse sind ein wichtiger Bestandteil der Kommunikation.\",\n",
        ")\n",
        "\n",
        "print_result(translation)"
      ]
    },
    {
      "cell_type": "code",
      "execution_count": 18,
      "metadata": {},
      "outputs": [
        {
          "name": "stdout",
          "output_type": "stream",
          "text": [
            "{\n",
            "  \"translations\": [\n",
            "    {\n",
            "      \"language\": \"de\",\n",
            "      \"translation\": \"Große Sprachmodelle sind ein mächtiges Werkzeug für die Verarbeitung natürlicher Sprache.\"\n",
            "    },\n",
            "    {\n",
            "      \"language\": \"fr\",\n",
            "      \"translation\": \"Les grands modèles de langage sont un outil puissant pour le traitement du langage naturel.\"\n",
            "    },\n",
            "    {\n",
            "      \"language\": \"it\",\n",
            "      \"translation\": \"I modelli linguistici di grandi dimensioni sono uno strumento potente per l'elaborazione del linguaggio naturale.\"\n",
            "    },\n",
            "    {\n",
            "      \"language\": \"es\",\n",
            "      \"translation\": \"Los modelos de lenguaje grandes son una herramienta poderosa para el procesamiento del lenguaje natural.\"\n",
            "    },\n",
            "    {\n",
            "      \"language\": \"he\",\n",
            "      \"translation\": \"מודלים של שפה גדולה הם כלי חזק לעיבוד שפה טבעית.\"\n",
            "    }\n",
            "  ]\n",
            "}\n"
          ]
        }
      ],
      "source": [
        "class Translation(BaseModel):\n",
        "    language: str = Field(..., description=\"The language of the translated text, as 2-letter language code.\")\n",
        "    translation: str\n",
        "\n",
        "class Translations(BaseModel):\n",
        "    translations: List[Translation]\n",
        "\n",
        "target_languages = [\"de\", \"fr\", \"it\", \"es\", \"he\"]\n",
        "\n",
        "translations = llm(\n",
        "    Translations,\n",
        "    f\"Translate the user-provided text into the following languages: {json.dumps(target_languages)}\",\n",
        "    \"Large Language Models are a powerful tool for natural language processing.\",\n",
        ")\n",
        "\n",
        "print_result(translations)"
      ]
    },
    {
      "cell_type": "code",
      "execution_count": 6,
      "metadata": {},
      "outputs": [
        {
          "name": "stdout",
          "output_type": "stream",
          "text": [
            "{\n",
            "  \"normalized_texts\": [\n",
            "    {\n",
            "      \"style\": \"formal\",\n",
            "      \"text\": \"Large Language Models represent a potent instrument for natural language processing.\"\n",
            "    },\n",
            "    {\n",
            "      \"style\": \"informal\",\n",
            "      \"text\": \"Big language models are a super handy tool for handling natural language.\"\n",
            "    },\n",
            "    {\n",
            "      \"style\": \"casual\",\n",
            "      \"text\": \"Large Language Models are pretty awesome for working with natural language.\"\n",
            "    },\n",
            "    {\n",
            "      \"style\": \"academic\",\n",
            "      \"text\": \"Large Language Models constitute a significant advancement in the field of natural language processing, providing substantial capabilities for a variety of applications.\"\n",
            "    },\n",
            "    {\n",
            "      \"style\": \"professional\",\n",
            "      \"text\": \"Large Language Models are a powerful asset for natural language processing tasks.\"\n",
            "    },\n",
            "    {\n",
            "      \"style\": \"business\",\n",
            "      \"text\": \"Large Language Models offer a robust solution for enhancing natural language processing capabilities, making them a valuable asset in business applications.\"\n",
            "    }\n",
            "  ]\n",
            "}\n"
          ]
        }
      ],
      "source": [
        "\n",
        "text_styles = [\"formal\", \"informal\", \"casual\", \"academic\", \"professional\", \"business\"]\n",
        "\n",
        "class NormalizedText(BaseModel):\n",
        "    style: str = Field(\n",
        "        ...,\n",
        "        description=(f\"The style of the text normalization.  Options: {json.dumps(text_styles)}\"))\n",
        "    text: str\n",
        "\n",
        "class NormalizedTexts(BaseModel):\n",
        "    normalized_texts: List[NormalizedText]\n",
        "\n",
        "normalizations = llm(\n",
        "    NormalizedTexts,\n",
        "    f\"Normalize the user-provided text into the following styles: {json.dumps(text_styles)}\",\n",
        "    \"Large Language Models are a powerful tool for natural language processing.\",\n",
        ")\n",
        "\n",
        "print_result(normalizations)"
      ]
    },
    {
      "cell_type": "markdown",
      "metadata": {},
      "source": [
        "### Unstructured Data"
      ]
    },
    {
      "cell_type": "code",
      "execution_count": 7,
      "metadata": {
        "colab": {
          "base_uri": "https://localhost:8080/"
        },
        "id": "C9xib4jBkQrx",
        "outputId": "31c103a7-60d5-4d34-818d-479ddcffbd37"
      },
      "outputs": [
        {
          "name": "stdout",
          "output_type": "stream",
          "text": [
            "{\n",
            "  \"first_name\": \"Eleanor\",\n",
            "  \"last_name\": \"Berger\",\n",
            "  \"street\": \"Freilagerstrasse\",\n",
            "  \"house_number\": \"97\",\n",
            "  \"postal_code\": \"8047\",\n",
            "  \"city\": \"Zürich\",\n",
            "  \"state\": \"Zürich\",\n",
            "  \"country\": \"Switzerland\"\n",
            "}\n"
          ]
        }
      ],
      "source": [
        "class AddressInfo(BaseModel):\n",
        "    first_name: str\n",
        "    last_name: str\n",
        "    street: str\n",
        "    house_number: str\n",
        "    postal_code: str\n",
        "    city: str\n",
        "    state: str\n",
        "    country: str\n",
        "\n",
        "address_info = llm(\n",
        "    AddressInfo,\n",
        "    \"Eleanor Berger lives in Switzerland, in the canton of Zürich. Her home is at Freilagerstrasse 97, 8047 Zürich.\"\n",
        ")\n",
        "\n",
        "print_result(address_info)"
      ]
    },
    {
      "cell_type": "code",
      "execution_count": 24,
      "metadata": {},
      "outputs": [
        {
          "data": {
            "text/html": [
              "<div>\n",
              "<style scoped>\n",
              "    .dataframe tbody tr th:only-of-type {\n",
              "        vertical-align: middle;\n",
              "    }\n",
              "\n",
              "    .dataframe tbody tr th {\n",
              "        vertical-align: top;\n",
              "    }\n",
              "\n",
              "    .dataframe thead th {\n",
              "        text-align: right;\n",
              "    }\n",
              "</style>\n",
              "<table border=\"1\" class=\"dataframe\">\n",
              "  <thead>\n",
              "    <tr style=\"text-align: right;\">\n",
              "      <th></th>\n",
              "      <th>first_name</th>\n",
              "      <th>last_name</th>\n",
              "      <th>street</th>\n",
              "      <th>house_number</th>\n",
              "      <th>postal_code</th>\n",
              "      <th>city</th>\n",
              "      <th>state</th>\n",
              "      <th>country</th>\n",
              "    </tr>\n",
              "  </thead>\n",
              "  <tbody>\n",
              "    <tr>\n",
              "      <th>0</th>\n",
              "      <td>Elena</td>\n",
              "      <td>Martinez</td>\n",
              "      <td>Elm Street</td>\n",
              "      <td>142B</td>\n",
              "      <td>94107</td>\n",
              "      <td>San Francisco</td>\n",
              "      <td>CA</td>\n",
              "      <td>USA</td>\n",
              "    </tr>\n",
              "    <tr>\n",
              "      <th>1</th>\n",
              "      <td>Hans</td>\n",
              "      <td>Gruber</td>\n",
              "      <td>Goethestrasse</td>\n",
              "      <td>22</td>\n",
              "      <td>8001</td>\n",
              "      <td>Zürich</td>\n",
              "      <td></td>\n",
              "      <td>Schweiz</td>\n",
              "    </tr>\n",
              "    <tr>\n",
              "      <th>2</th>\n",
              "      <td>Satoshi</td>\n",
              "      <td>Nakamoto</td>\n",
              "      <td>Sakura-cho</td>\n",
              "      <td>2-15-5</td>\n",
              "      <td>180-0003</td>\n",
              "      <td>Musashino-shi</td>\n",
              "      <td>Tokyo-to</td>\n",
              "      <td>Japan</td>\n",
              "    </tr>\n",
              "    <tr>\n",
              "      <th>3</th>\n",
              "      <td>Catherine</td>\n",
              "      <td>Dubois</td>\n",
              "      <td>Rue de la République</td>\n",
              "      <td>15</td>\n",
              "      <td>69002</td>\n",
              "      <td>Lyon</td>\n",
              "      <td></td>\n",
              "      <td>France</td>\n",
              "    </tr>\n",
              "    <tr>\n",
              "      <th>4</th>\n",
              "      <td>David</td>\n",
              "      <td>Johnson</td>\n",
              "      <td>Queen Street</td>\n",
              "      <td>34</td>\n",
              "      <td>M5H 2Y4</td>\n",
              "      <td>Toronto</td>\n",
              "      <td>ON</td>\n",
              "      <td>Canada</td>\n",
              "    </tr>\n",
              "  </tbody>\n",
              "</table>\n",
              "</div>"
            ],
            "text/plain": [
              "  first_name last_name                street house_number postal_code  \\\n",
              "0      Elena  Martinez            Elm Street         142B       94107   \n",
              "1       Hans    Gruber         Goethestrasse           22        8001   \n",
              "2    Satoshi  Nakamoto            Sakura-cho       2-15-5    180-0003   \n",
              "3  Catherine    Dubois  Rue de la République           15       69002   \n",
              "4      David   Johnson          Queen Street           34     M5H 2Y4   \n",
              "\n",
              "            city     state  country  \n",
              "0  San Francisco        CA      USA  \n",
              "1         Zürich            Schweiz  \n",
              "2  Musashino-shi  Tokyo-to    Japan  \n",
              "3           Lyon             France  \n",
              "4        Toronto        ON   Canada  "
            ]
          },
          "execution_count": 24,
          "metadata": {},
          "output_type": "execute_result"
        }
      ],
      "source": [
        "input_text = (\n",
        "  \"During my recent travels, I had the pleasure of visiting several fascinating locations. \"\n",
        "  \"My journey began at the office of Dr. Elena Martinez, 142B Elm Street, San Francisco, \"\n",
        "  \"CA 94107, USA. Her office, nestled in the bustling heart of the city, was a hub of \"\n",
        "  \"innovation and creativity. Next, I made my way to the historic residence of Mr. Hans \"\n",
        "  \"Gruber located at 3. Stock, Goethestrasse 22, 8001 Zürich, Schweiz. The old building, \"\n",
        "  \"with its classic Swiss architecture, stood as a testament to the city’s rich cultural \"\n",
        "  \"heritage. My adventure continued at the tranquil countryside home of Satoshi Nakamoto, \"\n",
        "  \"2-15-5, Sakura-cho, Musashino-shi, Tokyo-to 180-0003, Japan. Their home was surrounded by \"\n",
        "  \"beautiful cherry blossoms, creating a picturesque scene straight out of a postcard. In \"\n",
        "  \"Europe, I visited the charming villa of Mme. Catherine Dubois, 15 Rue de la République, \"\n",
        "  \"69002 Lyon, France. The cobblestone streets and historic buildings of Lyon provided a \"\n",
        "  \"perfect backdrop to her elegant home. Finally, my journey concluded at the modern apartment \"\n",
        "  \"of Mr. David Johnson, Apt 7B, 34 Queen Street, Toronto, ON M5H 2Y4, Canada. The sleek \"\n",
        "  \"design of the apartment building mirrored the contemporary vibe of the city itself.\"\n",
        "  )\n",
        "\n",
        "class Addresses(BaseModel):\n",
        "    addresses: List[AddressInfo]\n",
        "\n",
        "addresses_in_text = llm(\n",
        "    Addresses,\n",
        "    \"Return all the addresses in the user-provided text.\",\n",
        "    input_text,\n",
        ")\n",
        "\n",
        "json_dataframe(addresses_in_text.addresses)"
      ]
    },
    {
      "cell_type": "markdown",
      "metadata": {
        "id": "KYFPu0w7kQry"
      },
      "source": [
        "## Decision Making"
      ]
    },
    {
      "cell_type": "markdown",
      "metadata": {
        "id": "pIbTVEz9kQry"
      },
      "source": [
        "## Planning and Tool-Use"
      ]
    }
  ],
  "metadata": {
    "colab": {
      "provenance": []
    },
    "kernelspec": {
      "display_name": "Python 3",
      "language": "python",
      "name": "python3"
    },
    "language_info": {
      "codemirror_mode": {
        "name": "ipython",
        "version": 3
      },
      "file_extension": ".py",
      "mimetype": "text/x-python",
      "name": "python",
      "nbconvert_exporter": "python",
      "pygments_lexer": "ipython3",
      "version": "3.10.13"
    }
  },
  "nbformat": 4,
  "nbformat_minor": 0
}
