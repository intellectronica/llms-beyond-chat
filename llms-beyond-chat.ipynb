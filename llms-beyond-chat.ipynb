{
  "cells": [
    {
      "cell_type": "markdown",
      "metadata": {
        "id": "aI-zWHmskQru"
      },
      "source": [
        "## Setting Up"
      ]
    },
    {
      "cell_type": "markdown",
      "metadata": {
        "id": "iRxzoZEYkQrv"
      },
      "source": [
        "### Installing Dependencies"
      ]
    },
    {
      "cell_type": "code",
      "execution_count": 1,
      "metadata": {
        "id": "N5hLfrJGkQrw"
      },
      "outputs": [],
      "source": [
        "%pip install openai pydantic instructor pandas matplotlib networkx python-dotenv\n",
        "from IPython.display import clear_output ; clear_output()"
      ]
    },
    {
      "cell_type": "markdown",
      "metadata": {
        "id": "MVV6MCRIkQrw"
      },
      "source": [
        "### Loading Azure Open AI configuration"
      ]
    },
    {
      "cell_type": "code",
      "execution_count": 2,
      "metadata": {
        "id": "d2dCRzUxkQrx"
      },
      "outputs": [],
      "source": [
        "from dotenv import load_dotenv\n",
        "import os\n",
        "\n",
        "load_dotenv()\n",
        "\n",
        "AZURE_OPENAI_ENDPOINT = os.getenv(\"AZURE_OPENAI_ENDPOINT\")\n",
        "AZURE_OPENAI_API_KEY = os.getenv(\"AZURE_OPENAI_API_KEY\")\n",
        "GPT_4_O_MODEL_NAME = os.getenv(\"GPT_4_O_MODEL_NAME\", default=\"gpt-4o\")\n",
        "\n",
        "from openai import AzureOpenAI\n",
        "\n",
        "aoai = AzureOpenAI(\n",
        "    api_version=\"2024-05-01-preview\",\n",
        "    azure_endpoint=AZURE_OPENAI_ENDPOINT,\n",
        "    api_key=AZURE_OPENAI_API_KEY,\n",
        ")"
      ]
    },
    {
      "cell_type": "markdown",
      "metadata": {
        "id": "t2FAs_fKkQrx"
      },
      "source": [
        "## Using Structured Input/Output with OpenAI"
      ]
    },
    {
      "cell_type": "code",
      "execution_count": 3,
      "metadata": {},
      "outputs": [],
      "source": [
        "import instructor\n",
        "from pydantic import BaseModel, Field\n",
        "from typing import List\n",
        "from enum import Enum\n",
        "import json\n",
        "import pandas as pd\n",
        "import networkx as nx\n",
        "import matplotlib.pyplot as plt\n",
        "\n",
        "\n",
        "client = instructor.from_openai(aoai)\n",
        "\n",
        "def print_json(data):\n",
        "    print(json.dumps(data, indent=2))\n",
        "\n",
        "def print_schema(model: BaseModel):\n",
        "    print_json(model.model_json_schema(), indent=2)\n",
        "\n",
        "def print_result(result: BaseModel):\n",
        "    print(result.model_dump_json(indent=2))\n",
        "\n",
        "def json_dataframe(data):\n",
        "    pd.set_option('display.max_columns', None)\n",
        "    pd.set_option('display.expand_frame_repr', False)\n",
        "    pd.set_option('display.max_colwidth', None)\n",
        "    return pd.DataFrame([item.dict() for item in data]).style.set_properties(**{'text-align': 'left'})\n",
        "\n",
        "def llm(response_model: BaseModel = BaseModel, system: str = None, user: str = None, temperature: float = 0.0, max_tokens: int = 1000):\n",
        "    messages = []\n",
        "    if system:\n",
        "        messages.append({\"role\": \"system\", \"content\": system})\n",
        "    if user:\n",
        "        messages.append({\"role\": \"user\", \"content\": user})\n",
        "    result = client.chat.completions.create(\n",
        "        model=GPT_4_O_MODEL_NAME,\n",
        "        response_model=response_model,\n",
        "        messages=messages,\n",
        "        temperature=temperature,\n",
        "        max_tokens=max_tokens,\n",
        "    )\n",
        "    return result"
      ]
    },
    {
      "cell_type": "markdown",
      "metadata": {
        "id": "UQBHip4rkQry"
      },
      "source": [
        "## Working with Text"
      ]
    },
    {
      "cell_type": "markdown",
      "metadata": {},
      "source": [
        "### Translation and Normalization"
      ]
    },
    {
      "cell_type": "code",
      "execution_count": 4,
      "metadata": {},
      "outputs": [
        {
          "name": "stdout",
          "output_type": "stream",
          "text": [
            "{\n",
            "  \"input_language\": \"de\",\n",
            "  \"translation\": \"Language skills are an important part of communication.\"\n",
            "}\n"
          ]
        }
      ],
      "source": [
        "class TranslatedString(BaseModel):\n",
        "    input_language: str = Field(..., description=\"The language of the original text, as 2-letter language code.\")\n",
        "    translation: str\n",
        "\n",
        "translation = llm(\n",
        "    TranslatedString,\n",
        "    \"Detect the language of the original text and translate it into English.\",\n",
        "    \"Sprachkenntnisse sind ein wichtiger Bestandteil der Kommunikation.\",\n",
        ")\n",
        "\n",
        "print_result(translation)"
      ]
    },
    {
      "cell_type": "code",
      "execution_count": 5,
      "metadata": {},
      "outputs": [
        {
          "data": {
            "text/html": [
              "<style type=\"text/css\">\n",
              "#T_ce16e_row0_col0, #T_ce16e_row0_col1, #T_ce16e_row1_col0, #T_ce16e_row1_col1, #T_ce16e_row2_col0, #T_ce16e_row2_col1, #T_ce16e_row3_col0, #T_ce16e_row3_col1, #T_ce16e_row4_col0, #T_ce16e_row4_col1 {\n",
              "  text-align: left;\n",
              "}\n",
              "</style>\n",
              "<table id=\"T_ce16e\">\n",
              "  <thead>\n",
              "    <tr>\n",
              "      <th class=\"blank level0\" >&nbsp;</th>\n",
              "      <th id=\"T_ce16e_level0_col0\" class=\"col_heading level0 col0\" >language</th>\n",
              "      <th id=\"T_ce16e_level0_col1\" class=\"col_heading level0 col1\" >translation</th>\n",
              "    </tr>\n",
              "  </thead>\n",
              "  <tbody>\n",
              "    <tr>\n",
              "      <th id=\"T_ce16e_level0_row0\" class=\"row_heading level0 row0\" >0</th>\n",
              "      <td id=\"T_ce16e_row0_col0\" class=\"data row0 col0\" >de</td>\n",
              "      <td id=\"T_ce16e_row0_col1\" class=\"data row0 col1\" >Große Sprachmodelle sind ein leistungsstarkes Werkzeug für die Verarbeitung natürlicher Sprache.</td>\n",
              "    </tr>\n",
              "    <tr>\n",
              "      <th id=\"T_ce16e_level0_row1\" class=\"row_heading level0 row1\" >1</th>\n",
              "      <td id=\"T_ce16e_row1_col0\" class=\"data row1 col0\" >fr</td>\n",
              "      <td id=\"T_ce16e_row1_col1\" class=\"data row1 col1\" >Les grands modèles de langage sont un outil puissant pour le traitement du langage naturel.</td>\n",
              "    </tr>\n",
              "    <tr>\n",
              "      <th id=\"T_ce16e_level0_row2\" class=\"row_heading level0 row2\" >2</th>\n",
              "      <td id=\"T_ce16e_row2_col0\" class=\"data row2 col0\" >it</td>\n",
              "      <td id=\"T_ce16e_row2_col1\" class=\"data row2 col1\" >I modelli di linguaggio di grandi dimensioni sono uno strumento potente per l'elaborazione del linguaggio naturale.</td>\n",
              "    </tr>\n",
              "    <tr>\n",
              "      <th id=\"T_ce16e_level0_row3\" class=\"row_heading level0 row3\" >3</th>\n",
              "      <td id=\"T_ce16e_row3_col0\" class=\"data row3 col0\" >es</td>\n",
              "      <td id=\"T_ce16e_row3_col1\" class=\"data row3 col1\" >Los modelos de lenguaje grandes son una herramienta poderosa para el procesamiento del lenguaje natural.</td>\n",
              "    </tr>\n",
              "    <tr>\n",
              "      <th id=\"T_ce16e_level0_row4\" class=\"row_heading level0 row4\" >4</th>\n",
              "      <td id=\"T_ce16e_row4_col0\" class=\"data row4 col0\" >he</td>\n",
              "      <td id=\"T_ce16e_row4_col1\" class=\"data row4 col1\" >מודלים של שפה גדולים הם כלי עוצמתי לעיבוד שפה טבעית.</td>\n",
              "    </tr>\n",
              "  </tbody>\n",
              "</table>\n"
            ],
            "text/plain": [
              "<pandas.io.formats.style.Styler at 0x759f9a7a5de0>"
            ]
          },
          "execution_count": 5,
          "metadata": {},
          "output_type": "execute_result"
        }
      ],
      "source": [
        "target_languages = [\"de\", \"fr\", \"it\", \"es\", \"he\"]\n",
        "\n",
        "class Translation(BaseModel):\n",
        "    language: str = Field(..., description=f\"The language of the translated text, as 2-letter language code. Options: {json.dumps(target_languages)}\")\n",
        "    translation: str\n",
        "\n",
        "class Translations(BaseModel):\n",
        "    translations: List[Translation]\n",
        "\n",
        "translations = llm(\n",
        "    Translations,\n",
        "    f\"Translate the user-provided text into the following languages: {json.dumps(target_languages)}\",\n",
        "    \"Large Language Models are a powerful tool for natural language processing.\",\n",
        ")\n",
        "\n",
        "json_dataframe(translations.translations)"
      ]
    },
    {
      "cell_type": "code",
      "execution_count": 6,
      "metadata": {},
      "outputs": [
        {
          "data": {
            "text/html": [
              "<style type=\"text/css\">\n",
              "#T_7fa53_row0_col0, #T_7fa53_row0_col1, #T_7fa53_row1_col0, #T_7fa53_row1_col1, #T_7fa53_row2_col0, #T_7fa53_row2_col1, #T_7fa53_row3_col0, #T_7fa53_row3_col1, #T_7fa53_row4_col0, #T_7fa53_row4_col1, #T_7fa53_row5_col0, #T_7fa53_row5_col1 {\n",
              "  text-align: left;\n",
              "}\n",
              "</style>\n",
              "<table id=\"T_7fa53\">\n",
              "  <thead>\n",
              "    <tr>\n",
              "      <th class=\"blank level0\" >&nbsp;</th>\n",
              "      <th id=\"T_7fa53_level0_col0\" class=\"col_heading level0 col0\" >style</th>\n",
              "      <th id=\"T_7fa53_level0_col1\" class=\"col_heading level0 col1\" >text</th>\n",
              "    </tr>\n",
              "  </thead>\n",
              "  <tbody>\n",
              "    <tr>\n",
              "      <th id=\"T_7fa53_level0_row0\" class=\"row_heading level0 row0\" >0</th>\n",
              "      <td id=\"T_7fa53_row0_col0\" class=\"data row0 col0\" >formal</td>\n",
              "      <td id=\"T_7fa53_row0_col1\" class=\"data row0 col1\" >Large Language Models are a powerful tool for natural language processing.</td>\n",
              "    </tr>\n",
              "    <tr>\n",
              "      <th id=\"T_7fa53_level0_row1\" class=\"row_heading level0 row1\" >1</th>\n",
              "      <td id=\"T_7fa53_row1_col0\" class=\"data row1 col0\" >informal</td>\n",
              "      <td id=\"T_7fa53_row1_col1\" class=\"data row1 col1\" >Big language models are super useful for natural language processing.</td>\n",
              "    </tr>\n",
              "    <tr>\n",
              "      <th id=\"T_7fa53_level0_row2\" class=\"row_heading level0 row2\" >2</th>\n",
              "      <td id=\"T_7fa53_row2_col0\" class=\"data row2 col0\" >casual</td>\n",
              "      <td id=\"T_7fa53_row2_col1\" class=\"data row2 col1\" >Big language models are pretty handy for natural language processing.</td>\n",
              "    </tr>\n",
              "    <tr>\n",
              "      <th id=\"T_7fa53_level0_row3\" class=\"row_heading level0 row3\" >3</th>\n",
              "      <td id=\"T_7fa53_row3_col0\" class=\"data row3 col0\" >academic</td>\n",
              "      <td id=\"T_7fa53_row3_col1\" class=\"data row3 col1\" >Large Language Models represent a significant advancement in the field of natural language processing.</td>\n",
              "    </tr>\n",
              "    <tr>\n",
              "      <th id=\"T_7fa53_level0_row4\" class=\"row_heading level0 row4\" >4</th>\n",
              "      <td id=\"T_7fa53_row4_col0\" class=\"data row4 col0\" >professional</td>\n",
              "      <td id=\"T_7fa53_row4_col1\" class=\"data row4 col1\" >Large Language Models are an effective tool for natural language processing.</td>\n",
              "    </tr>\n",
              "    <tr>\n",
              "      <th id=\"T_7fa53_level0_row5\" class=\"row_heading level0 row5\" >5</th>\n",
              "      <td id=\"T_7fa53_row5_col0\" class=\"data row5 col0\" >business</td>\n",
              "      <td id=\"T_7fa53_row5_col1\" class=\"data row5 col1\" >Large Language Models offer substantial benefits for natural language processing applications.</td>\n",
              "    </tr>\n",
              "  </tbody>\n",
              "</table>\n"
            ],
            "text/plain": [
              "<pandas.io.formats.style.Styler at 0x759f9a7a4d60>"
            ]
          },
          "execution_count": 6,
          "metadata": {},
          "output_type": "execute_result"
        }
      ],
      "source": [
        "\n",
        "text_styles = [\"formal\", \"informal\", \"casual\", \"academic\", \"professional\", \"business\"]\n",
        "\n",
        "class NormalizedText(BaseModel):\n",
        "    style: str = Field(\n",
        "        ...,\n",
        "        description=(f\"The style of the text normalization. Options: {json.dumps(text_styles)}\"))\n",
        "    text: str\n",
        "\n",
        "class NormalizedTexts(BaseModel):\n",
        "    normalized_texts: List[NormalizedText]\n",
        "\n",
        "normalizations = llm(\n",
        "    NormalizedTexts,\n",
        "    f\"Normalize the user-provided text into the following styles: {json.dumps(text_styles)}\",\n",
        "    \"Large Language Models are a powerful tool for natural language processing.\",\n",
        ")\n",
        "\n",
        "json_dataframe(normalizations.normalized_texts)"
      ]
    },
    {
      "cell_type": "markdown",
      "metadata": {},
      "source": [
        "### Unstructured Data"
      ]
    },
    {
      "cell_type": "code",
      "execution_count": 7,
      "metadata": {
        "colab": {
          "base_uri": "https://localhost:8080/"
        },
        "id": "C9xib4jBkQrx",
        "outputId": "31c103a7-60d5-4d34-818d-479ddcffbd37"
      },
      "outputs": [
        {
          "name": "stdout",
          "output_type": "stream",
          "text": [
            "{\n",
            "  \"first_name\": \"Eleanor\",\n",
            "  \"last_name\": \"Berger\",\n",
            "  \"street\": \"Freilagerstrasse\",\n",
            "  \"house_number\": \"97\",\n",
            "  \"postal_code\": \"8047\",\n",
            "  \"city\": \"Zürich\",\n",
            "  \"state\": \"Zürich\",\n",
            "  \"country\": \"Switzerland\"\n",
            "}\n"
          ]
        }
      ],
      "source": [
        "class AddressInfo(BaseModel):\n",
        "    first_name: str\n",
        "    last_name: str\n",
        "    street: str\n",
        "    house_number: str\n",
        "    postal_code: str\n",
        "    city: str\n",
        "    state: str\n",
        "    country: str\n",
        "\n",
        "address_info = llm(\n",
        "    AddressInfo,\n",
        "    \"Eleanor Berger lives in Switzerland, in the canton of Zürich. Her home is at Freilagerstrasse 97, 8047 Zürich.\"\n",
        ")\n",
        "\n",
        "print_result(address_info)"
      ]
    },
    {
      "cell_type": "code",
      "execution_count": 8,
      "metadata": {},
      "outputs": [
        {
          "data": {
            "text/html": [
              "<style type=\"text/css\">\n",
              "#T_0ffb3_row0_col0, #T_0ffb3_row0_col1, #T_0ffb3_row0_col2, #T_0ffb3_row0_col3, #T_0ffb3_row0_col4, #T_0ffb3_row0_col5, #T_0ffb3_row0_col6, #T_0ffb3_row0_col7, #T_0ffb3_row1_col0, #T_0ffb3_row1_col1, #T_0ffb3_row1_col2, #T_0ffb3_row1_col3, #T_0ffb3_row1_col4, #T_0ffb3_row1_col5, #T_0ffb3_row1_col6, #T_0ffb3_row1_col7, #T_0ffb3_row2_col0, #T_0ffb3_row2_col1, #T_0ffb3_row2_col2, #T_0ffb3_row2_col3, #T_0ffb3_row2_col4, #T_0ffb3_row2_col5, #T_0ffb3_row2_col6, #T_0ffb3_row2_col7, #T_0ffb3_row3_col0, #T_0ffb3_row3_col1, #T_0ffb3_row3_col2, #T_0ffb3_row3_col3, #T_0ffb3_row3_col4, #T_0ffb3_row3_col5, #T_0ffb3_row3_col6, #T_0ffb3_row3_col7, #T_0ffb3_row4_col0, #T_0ffb3_row4_col1, #T_0ffb3_row4_col2, #T_0ffb3_row4_col3, #T_0ffb3_row4_col4, #T_0ffb3_row4_col5, #T_0ffb3_row4_col6, #T_0ffb3_row4_col7 {\n",
              "  text-align: left;\n",
              "}\n",
              "</style>\n",
              "<table id=\"T_0ffb3\">\n",
              "  <thead>\n",
              "    <tr>\n",
              "      <th class=\"blank level0\" >&nbsp;</th>\n",
              "      <th id=\"T_0ffb3_level0_col0\" class=\"col_heading level0 col0\" >first_name</th>\n",
              "      <th id=\"T_0ffb3_level0_col1\" class=\"col_heading level0 col1\" >last_name</th>\n",
              "      <th id=\"T_0ffb3_level0_col2\" class=\"col_heading level0 col2\" >street</th>\n",
              "      <th id=\"T_0ffb3_level0_col3\" class=\"col_heading level0 col3\" >house_number</th>\n",
              "      <th id=\"T_0ffb3_level0_col4\" class=\"col_heading level0 col4\" >postal_code</th>\n",
              "      <th id=\"T_0ffb3_level0_col5\" class=\"col_heading level0 col5\" >city</th>\n",
              "      <th id=\"T_0ffb3_level0_col6\" class=\"col_heading level0 col6\" >state</th>\n",
              "      <th id=\"T_0ffb3_level0_col7\" class=\"col_heading level0 col7\" >country</th>\n",
              "    </tr>\n",
              "  </thead>\n",
              "  <tbody>\n",
              "    <tr>\n",
              "      <th id=\"T_0ffb3_level0_row0\" class=\"row_heading level0 row0\" >0</th>\n",
              "      <td id=\"T_0ffb3_row0_col0\" class=\"data row0 col0\" >Elena</td>\n",
              "      <td id=\"T_0ffb3_row0_col1\" class=\"data row0 col1\" >Martinez</td>\n",
              "      <td id=\"T_0ffb3_row0_col2\" class=\"data row0 col2\" >Elm Street</td>\n",
              "      <td id=\"T_0ffb3_row0_col3\" class=\"data row0 col3\" >142B</td>\n",
              "      <td id=\"T_0ffb3_row0_col4\" class=\"data row0 col4\" >94107</td>\n",
              "      <td id=\"T_0ffb3_row0_col5\" class=\"data row0 col5\" >San Francisco</td>\n",
              "      <td id=\"T_0ffb3_row0_col6\" class=\"data row0 col6\" >CA</td>\n",
              "      <td id=\"T_0ffb3_row0_col7\" class=\"data row0 col7\" >USA</td>\n",
              "    </tr>\n",
              "    <tr>\n",
              "      <th id=\"T_0ffb3_level0_row1\" class=\"row_heading level0 row1\" >1</th>\n",
              "      <td id=\"T_0ffb3_row1_col0\" class=\"data row1 col0\" >Hans</td>\n",
              "      <td id=\"T_0ffb3_row1_col1\" class=\"data row1 col1\" >Gruber</td>\n",
              "      <td id=\"T_0ffb3_row1_col2\" class=\"data row1 col2\" >Goethestrasse</td>\n",
              "      <td id=\"T_0ffb3_row1_col3\" class=\"data row1 col3\" >22</td>\n",
              "      <td id=\"T_0ffb3_row1_col4\" class=\"data row1 col4\" >8001</td>\n",
              "      <td id=\"T_0ffb3_row1_col5\" class=\"data row1 col5\" >Zürich</td>\n",
              "      <td id=\"T_0ffb3_row1_col6\" class=\"data row1 col6\" ></td>\n",
              "      <td id=\"T_0ffb3_row1_col7\" class=\"data row1 col7\" >Switzerland</td>\n",
              "    </tr>\n",
              "    <tr>\n",
              "      <th id=\"T_0ffb3_level0_row2\" class=\"row_heading level0 row2\" >2</th>\n",
              "      <td id=\"T_0ffb3_row2_col0\" class=\"data row2 col0\" >Satoshi</td>\n",
              "      <td id=\"T_0ffb3_row2_col1\" class=\"data row2 col1\" >Nakamoto</td>\n",
              "      <td id=\"T_0ffb3_row2_col2\" class=\"data row2 col2\" >Sakura-cho</td>\n",
              "      <td id=\"T_0ffb3_row2_col3\" class=\"data row2 col3\" >2-15-5</td>\n",
              "      <td id=\"T_0ffb3_row2_col4\" class=\"data row2 col4\" >180-0003</td>\n",
              "      <td id=\"T_0ffb3_row2_col5\" class=\"data row2 col5\" >Musashino-shi</td>\n",
              "      <td id=\"T_0ffb3_row2_col6\" class=\"data row2 col6\" >Tokyo-to</td>\n",
              "      <td id=\"T_0ffb3_row2_col7\" class=\"data row2 col7\" >Japan</td>\n",
              "    </tr>\n",
              "    <tr>\n",
              "      <th id=\"T_0ffb3_level0_row3\" class=\"row_heading level0 row3\" >3</th>\n",
              "      <td id=\"T_0ffb3_row3_col0\" class=\"data row3 col0\" >Catherine</td>\n",
              "      <td id=\"T_0ffb3_row3_col1\" class=\"data row3 col1\" >Dubois</td>\n",
              "      <td id=\"T_0ffb3_row3_col2\" class=\"data row3 col2\" >Rue de la République</td>\n",
              "      <td id=\"T_0ffb3_row3_col3\" class=\"data row3 col3\" >15</td>\n",
              "      <td id=\"T_0ffb3_row3_col4\" class=\"data row3 col4\" >69002</td>\n",
              "      <td id=\"T_0ffb3_row3_col5\" class=\"data row3 col5\" >Lyon</td>\n",
              "      <td id=\"T_0ffb3_row3_col6\" class=\"data row3 col6\" ></td>\n",
              "      <td id=\"T_0ffb3_row3_col7\" class=\"data row3 col7\" >France</td>\n",
              "    </tr>\n",
              "    <tr>\n",
              "      <th id=\"T_0ffb3_level0_row4\" class=\"row_heading level0 row4\" >4</th>\n",
              "      <td id=\"T_0ffb3_row4_col0\" class=\"data row4 col0\" >David</td>\n",
              "      <td id=\"T_0ffb3_row4_col1\" class=\"data row4 col1\" >Johnson</td>\n",
              "      <td id=\"T_0ffb3_row4_col2\" class=\"data row4 col2\" >Queen Street</td>\n",
              "      <td id=\"T_0ffb3_row4_col3\" class=\"data row4 col3\" >34</td>\n",
              "      <td id=\"T_0ffb3_row4_col4\" class=\"data row4 col4\" >M5H 2Y4</td>\n",
              "      <td id=\"T_0ffb3_row4_col5\" class=\"data row4 col5\" >Toronto</td>\n",
              "      <td id=\"T_0ffb3_row4_col6\" class=\"data row4 col6\" >ON</td>\n",
              "      <td id=\"T_0ffb3_row4_col7\" class=\"data row4 col7\" >Canada</td>\n",
              "    </tr>\n",
              "  </tbody>\n",
              "</table>\n"
            ],
            "text/plain": [
              "<pandas.io.formats.style.Styler at 0x759f98c6e8f0>"
            ]
          },
          "execution_count": 8,
          "metadata": {},
          "output_type": "execute_result"
        }
      ],
      "source": [
        "input_text = (\n",
        "  \"During my recent travels, I had the pleasure of visiting several fascinating locations. \"\n",
        "  \"My journey began at the office of Dr. Elena Martinez, 142B Elm Street, San Francisco, \"\n",
        "  \"CA 94107, USA. Her office, nestled in the bustling heart of the city, was a hub of \"\n",
        "  \"innovation and creativity. Next, I made my way to the historic residence of Mr. Hans \"\n",
        "  \"Gruber located at 3. Stock, Goethestrasse 22, 8001 Zürich, Switzerland. The old building, \"\n",
        "  \"with its classic Swiss architecture, stood as a testament to the city’s rich cultural \"\n",
        "  \"heritage. My adventure continued at the tranquil countryside home of Satoshi Nakamoto, \"\n",
        "  \"2-15-5, Sakura-cho, Musashino-shi, Tokyo-to 180-0003, Japan. Their home was surrounded by \"\n",
        "  \"beautiful cherry blossoms, creating a picturesque scene straight out of a postcard. In \"\n",
        "  \"Europe, I visited the charming villa of Mme. Catherine Dubois, 15 Rue de la République, \"\n",
        "  \"69002 Lyon, France. The cobblestone streets and historic buildings of Lyon provided a \"\n",
        "  \"perfect backdrop to her elegant home. Finally, my journey concluded at the modern apartment \"\n",
        "  \"of Mr. David Johnson, Apt 7B, 34 Queen Street, Toronto, ON M5H 2Y4, Canada. The sleek \"\n",
        "  \"design of the apartment building mirrored the contemporary vibe of the city itself.\"\n",
        "  )\n",
        "\n",
        "class Addresses(BaseModel):\n",
        "    addresses: List[AddressInfo]\n",
        "\n",
        "addresses_in_text = llm(\n",
        "    Addresses,\n",
        "    \"Return all the addresses in the user-provided text.\",\n",
        "    input_text,\n",
        ")\n",
        "\n",
        "json_dataframe(addresses_in_text.addresses)"
      ]
    },
    {
      "cell_type": "code",
      "execution_count": 9,
      "metadata": {},
      "outputs": [
        {
          "data": {
            "image/png": "[encoded data removed]",
            "text/plain": [
              "<Figure size 700x500 with 1 Axes>"
            ]
          },
          "metadata": {},
          "output_type": "display_data"
        }
      ],
      "source": [
        "class Node(BaseModel):\n",
        "    id: int\n",
        "    label: str\n",
        "    color: str\n",
        "\n",
        "class Edge(BaseModel):\n",
        "    source: int\n",
        "    target: int\n",
        "    label: str\n",
        "    color: str = \"black\"\n",
        "\n",
        "class KnowledgeGraph(BaseModel):\n",
        "    nodes: List[Node] = Field(..., default_factory=list)\n",
        "    edges: List[Edge] = Field(..., default_factory=list)\n",
        "\n",
        "input_text = (\n",
        "    \"Some products are edible and others are inedible. Soap, newspapers, and shoes, for example, \"\n",
        "    \"are inedible. Of the products that are edible, some are sweet and others are savory. \"\n",
        "    \"Chocolate, candy, and ice cream are sweet, while pizza, burgers, and fries are savory. \"\n",
        "    \"Chocolate comes in different forms, such as milk chocolate, dark chocolate, and white chocolate. \"\n",
        "    \"The New York Times, The Wall Street Journal, and The Washington Post are newspapers.\"\n",
        ")\n",
        "\n",
        "knowledge_graph = llm(\n",
        "    KnowledgeGraph,\n",
        "    \"Help the user understand the provided text by generating a knowledge graph.\",\n",
        "    input_text,\n",
        ")\n",
        "\n",
        "def visualize_graph(kg: KnowledgeGraph):\n",
        "    G = nx.DiGraph()\n",
        "    for node in kg.nodes:\n",
        "        G.add_node(node.id, label=node.label, color=node.color)\n",
        "    for edge in knowledge_graph.edges:\n",
        "        G.add_edge(edge.source, edge.target, label=edge.label, color=edge.color)\n",
        "    pos = nx.planar_layout(G)\n",
        "    node_colors = [node[1]['color'] for node in G.nodes(data=True)]\n",
        "    edge_colors = [edge[2]['color'] for edge in G.edges(data=True)]\n",
        "    labels = {node[0]: node[1]['label'] for node in G.nodes(data=True)}\n",
        "    plt.figure(figsize=(7, 5))\n",
        "    nx.draw(G, pos, labels=labels, with_labels=True, node_color=node_colors, edge_color=edge_colors, font_size=8)\n",
        "    plt.title(\"Knowledge Graph\")\n",
        "    plt.show()\n",
        "\n",
        "visualize_graph(knowledge_graph)\n"
      ]
    },
    {
      "cell_type": "code",
      "execution_count": 10,
      "metadata": {},
      "outputs": [
        {
          "name": "stdout",
          "output_type": "stream",
          "text": [
            "NOUN:\n",
            "   DET:\n",
            "      the\n",
            "   ADJ:\n",
            "      quick\n",
            "      brown\n",
            "   NOUN:\n",
            "      fox\n",
            "VERB:\n",
            "   jumps\n",
            "PREP:\n",
            "   PREP:\n",
            "      over\n",
            "   NOUN:\n",
            "      DET:\n",
            "         the\n",
            "      ADJ:\n",
            "         lazy\n",
            "      NOUN:\n",
            "         dog\n"
          ]
        }
      ],
      "source": [
        "class NounPhrase(BaseModel):\n",
        "    det: str\n",
        "    adj: List[str]\n",
        "    noun: str\n",
        "\n",
        "class PrepPhrase(BaseModel):\n",
        "    prep: str\n",
        "    noun: NounPhrase\n",
        "\n",
        "class VerbPhrase(BaseModel):\n",
        "    noun: NounPhrase\n",
        "    verb: str\n",
        "    prep: PrepPhrase\n",
        "\n",
        "grammar_tree = llm(\n",
        "    VerbPhrase,\n",
        "    \"Parse the user-provided sentence into a simple grammar tree.\",\n",
        "    \"the quick brown fox jumps over the lazy dog\",\n",
        ")\n",
        "\n",
        "def print_tree(data, indent=0):\n",
        "    if isinstance(data, dict):\n",
        "        for key, value in data.items():\n",
        "            print('   ' * indent + key.upper() + ':')\n",
        "            print_tree(value, indent + 1)\n",
        "    elif isinstance(data, list):\n",
        "        for item in data:\n",
        "            print_tree(item, indent)\n",
        "    else:\n",
        "        print('   ' * indent + str(data))\n",
        "\n",
        "print_tree(grammar_tree.dict())\n"
      ]
    },
    {
      "cell_type": "markdown",
      "metadata": {
        "id": "KYFPu0w7kQry"
      },
      "source": [
        "## Decision Making"
      ]
    },
    {
      "cell_type": "markdown",
      "metadata": {
        "id": "pIbTVEz9kQry"
      },
      "source": [
        "## Planning and Tool-Use"
      ]
    }
  ],
  "metadata": {
    "colab": {
      "provenance": []
    },
    "kernelspec": {
      "display_name": "Python 3",
      "language": "python",
      "name": "python3"
    },
    "language_info": {
      "codemirror_mode": {
        "name": "ipython",
        "version": 3
      },
      "file_extension": ".py",
      "mimetype": "text/x-python",
      "name": "python",
      "nbconvert_exporter": "python",
      "pygments_lexer": "ipython3",
      "version": "3.10.13"
    }
  },
  "nbformat": 4,
  "nbformat_minor": 0
}
